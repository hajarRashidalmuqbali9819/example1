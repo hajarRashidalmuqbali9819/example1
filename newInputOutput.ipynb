{
 "cells": [
  {
   "cell_type": "markdown",
   "metadata": {},
   "source": [
    "## Write a programme that reads 2 numbers and prints the sum of the two numbers\n"
   ]
  },
  {
   "cell_type": "code",
   "execution_count": 1,
   "metadata": {},
   "outputs": [
    {
     "name": "stdout",
     "output_type": "stream",
     "text": [
      "the result is : 11\n"
     ]
    }
   ],
   "source": [
    "x = input (\"Enter the first number:\")\n",
    "x = int(x)\n",
    "y = input (\"Enter the second number:\")\n",
    "y = int(y)\n",
    "r = x+y\n",
    "print (\"the result is :\" , r)"
   ]
  },
  {
   "cell_type": "markdown",
   "metadata": {},
   "source": [
    "## Write a programme that reads three numbers and prints the result of multiplying the numbers\n"
   ]
  },
  {
   "cell_type": "code",
   "execution_count": 3,
   "metadata": {},
   "outputs": [
    {
     "name": "stdout",
     "output_type": "stream",
     "text": [
      "the result is : 8\n"
     ]
    }
   ],
   "source": [
    "x = input (\"Enter the first number:\")\n",
    "x = int(x)\n",
    "y = input (\"Enter the second number:\")\n",
    "y = int(y)\n",
    "z = input (\"Enter the third number:\")\n",
    "z = int(z)\n",
    "r = x*y*z\n",
    "print (\"the result is :\" , r)"
   ]
  },
  {
   "cell_type": "markdown",
   "metadata": {},
   "source": [
    "## Write a programme that reads your name and prints a message of welcome like Welcome Ali, if you entered Ali as the name\n"
   ]
  },
  {
   "cell_type": "code",
   "execution_count": 7,
   "metadata": {},
   "outputs": [
    {
     "name": "stdout",
     "output_type": "stream",
     "text": [
      "welcome  hajar\n"
     ]
    }
   ],
   "source": [
    "name=input(\"enter your name\")\n",
    "print (\"welcome \",name)\n"
   ]
  },
  {
   "cell_type": "markdown",
   "metadata": {},
   "source": [
    "## Write the code that reads a number and prints the float value of the entered number\n"
   ]
  },
  {
   "cell_type": "code",
   "execution_count": 8,
   "metadata": {},
   "outputs": [
    {
     "name": "stdout",
     "output_type": "stream",
     "text": [
      "22.0\n"
     ]
    }
   ],
   "source": [
    "x=input(\"Enter a number: \")\n",
    "x=float(x)\n",
    "print (x)"
   ]
  },
  {
   "cell_type": "markdown",
   "metadata": {},
   "source": [
    "## Write the code that reads a string and prints the string 10 times "
   ]
  },
  {
   "cell_type": "code",
   "execution_count": 9,
   "metadata": {},
   "outputs": [
    {
     "name": "stdout",
     "output_type": "stream",
     "text": [
      "100100100100100100100100100100\n"
     ]
    }
   ],
   "source": [
    "st=input(\"enter a string: \")\n",
    "print (st*10)"
   ]
  },
  {
   "cell_type": "markdown",
   "metadata": {},
   "source": [
    "## using single print instruction write the code that "
   ]
  },
  {
   "cell_type": "code",
   "execution_count": null,
   "metadata": {},
   "outputs": [],
   "source": [
    "print(\"Hi \\t My \\\")"
   ]
  }
 ],
 "metadata": {
  "kernelspec": {
   "display_name": "Python 3",
   "language": "python",
   "name": "python3"
  },
  "language_info": {
   "codemirror_mode": {
    "name": "ipython",
    "version": 3
   },
   "file_extension": ".py",
   "mimetype": "text/x-python",
   "name": "python",
   "nbconvert_exporter": "python",
   "pygments_lexer": "ipython3",
   "version": "3.10.8"
  }
 },
 "nbformat": 4,
 "nbformat_minor": 2
}
